{
 "cells": [
  {
   "cell_type": "markdown",
   "metadata": {},
   "source": [
    "# Building and evaluating transformer models and their optimal hyperparameters\n",
    "#### Evaluate and then pick the one I like to implement in my app"
   ]
  },
  {
   "cell_type": "code",
   "execution_count": 1,
   "metadata": {},
   "outputs": [],
   "source": [
    "%%capture\n",
    "pip install pandas transformers datasets torch transformers[torch]"
   ]
  },
  {
   "cell_type": "code",
   "execution_count": null,
   "metadata": {},
   "outputs": [],
   "source": [
    "import pandas as pd\n",
    "from transformers import RobertaTokenizer, RobertaForSequenceClassification, TrainingArguments, Trainer\n"
   ]
  },
  {
   "cell_type": "code",
   "execution_count": null,
   "metadata": {},
   "outputs": [],
   "source": [
    "training_df = pd.read_csv(\"/Users/hannahdestiny/Desktop/FakeProfileDetection/dev/csv/structured_train.csv\")\n",
    "testing_df = pd.read_csv(\"/Users/hannahdestiny/Desktop/FakeProfileDetection/dev/csv/structured_test.csv\")\n",
    "pd.set_option('display.max_colwidth', None)\n",
    "training_df.head(50)"
   ]
  },
  {
   "cell_type": "code",
   "execution_count": null,
   "metadata": {},
   "outputs": [],
   "source": [
    "from CleanDatasets import CleanDatasets\n",
    "from datasets import Dataset\n",
    "\n",
    "columns_to_rename_dict = {\"screen_name\": \"username\", \"account.type\": \"is_human\"}\n",
    "columns_to_drop_list = [\"class_type\"]\n",
    "column_to_binary = \"account.type\"\n",
    "\n",
    "\n",
    "training_cleaner = CleanDatasets(training_df, columns_to_rename_dict, columns_to_drop_list, column_to_binary)\n",
    "clean_training_df = training_cleaner.clean_df()\n",
    "testing_cleaner = CleanDatasets(testing_df, columns_to_rename_dict, columns_to_drop_list, column_to_binary)\n",
    "clean_testing_df = testing_cleaner.clean_df()\n",
    "train_dataset = Dataset.from_pandas(clean_training_df)\n",
    "test_dataset = Dataset.from_pandas(clean_testing_df)\n",
    "train_dataset\n"
   ]
  },
  {
   "cell_type": "code",
   "execution_count": 16,
   "metadata": {},
   "outputs": [],
   "source": [
    "#initialise variables - build a config for different models i can use\n",
    "\n",
    "MODEL_NAME = \"FacebookAI/roberta-base\" \n",
    "TOKENIZER_MODEL_NAME = \"roberta-base\"\n",
    "MODEL = RobertaForSequenceClassification\n",
    "TOKENIZER = RobertaTokenizer\n",
    "\n"
   ]
  },
  {
   "cell_type": "code",
   "execution_count": null,
   "metadata": {},
   "outputs": [],
   "source": [
    "# Tokenize the texts - replace 'text' in each column with vectors, attention mask and label so machines can work with it \n",
    "tokenizer = RobertaTokenizer.from_pretrained(TOKENIZER_MODEL_NAME)\n",
    "\n",
    "# Tokenize the texts\n",
    "def tokenize_function(examples):  \n",
    "    return tokenizer(examples['text'], padding=\"max_length\", truncation=True)\n",
    "\n",
    "train_tokenized = train_dataset.map(tokenize_function, batched=True)\n",
    "test_tokenized = test_dataset.map(tokenize_function, batched=True)\n",
    "\n",
    "\n"
   ]
  },
  {
   "cell_type": "code",
   "execution_count": 20,
   "metadata": {},
   "outputs": [],
   "source": [
    "train_tokenized = train_tokenized.rename_column(\"is_human\", \"labels\") \n",
    "test_tokenized = test_tokenized.rename_column(\"is_human\", \"labels\") \n",
    "\n",
    "train_tokenized = train_tokenized.remove_columns([\"username\", \"text\"])\n",
    "test_tokenized = test_tokenized.remove_columns([\"username\", \"text\"])\n"
   ]
  },
  {
   "cell_type": "code",
   "execution_count": null,
   "metadata": {},
   "outputs": [],
   "source": [
    "\n",
    "train_tokenized[0].keys()"
   ]
  },
  {
   "cell_type": "code",
   "execution_count": null,
   "metadata": {},
   "outputs": [],
   "source": [
    "pip show torch"
   ]
  },
  {
   "cell_type": "code",
   "execution_count": null,
   "metadata": {},
   "outputs": [],
   "source": [
    "#configurate the trainer\n",
    "\"\"\"Some weights of RobertaForSequenceClassification were not initialized from the model checkpoint at FacebookAI/roberta-base and are newly initialized: ['classifier.dense.bias', 'classifier.dense.weight', 'classifier.out_proj.bias', 'classifier.out_proj.weight']\n",
    "You should probably TRAIN this model on a down-stream task to be able to use it for predictions and inference.\"\"\"\n",
    "training_args = TrainingArguments(\n",
    "    output_dir=\"./results\",\n",
    "    eval_strategy=\"epoch\",\n",
    "    per_device_train_batch_size=8,\n",
    "    per_device_eval_batch_size=8,\n",
    "    num_train_epochs=3,\n",
    "    weight_decay=0.01,\n",
    ")\n",
    "\n",
    "trainer = Trainer(\n",
    "    model=MODEL.from_pretrained(MODEL_NAME),\n",
    "    args=training_args,\n",
    "    train_dataset=train_tokenized,\n",
    "    eval_dataset=test_tokenized\n",
    ")"
   ]
  },
  {
   "cell_type": "code",
   "execution_count": null,
   "metadata": {},
   "outputs": [],
   "source": [
    "trainer.train()"
   ]
  },
  {
   "cell_type": "code",
   "execution_count": null,
   "metadata": {},
   "outputs": [],
   "source": []
  }
 ],
 "metadata": {
  "kernelspec": {
   "display_name": "venv",
   "language": "python",
   "name": "python3"
  },
  "language_info": {
   "codemirror_mode": {
    "name": "ipython",
    "version": 3
   },
   "file_extension": ".py",
   "mimetype": "text/x-python",
   "name": "python",
   "nbconvert_exporter": "python",
   "pygments_lexer": "ipython3",
   "version": "3.11.2"
  }
 },
 "nbformat": 4,
 "nbformat_minor": 2
}
